{
  "nbformat": 4,
  "nbformat_minor": 0,
  "metadata": {
    "colab": {
      "name": "Weekly_ML_CodeClub001_DataWrangling.ipynb",
      "provenance": [],
      "authorship_tag": "ABX9TyNrzQ4RpSnG3xzsGbg6PHlb"
    },
    "kernelspec": {
      "name": "python3",
      "display_name": "Python 3"
    }
  },
  "cells": [
    {
      "cell_type": "markdown",
      "metadata": {
        "id": "TsOz8YQKirbf"
      },
      "source": [
        "<font size = '15px' font color='navy'>The Complete Machine Learning Externship:</font> \r\n",
        "\r\n",
        "<font size = '6px' font color='red'>Weekly ML Code Club:001</font> "
      ]
    },
    {
      "cell_type": "markdown",
      "metadata": {
        "id": "Y32Oh4HDZIns"
      },
      "source": [
        "<font size  = 5 font color = 'blue'>Data Wrangling <font/>\r\n",
        "\r\n",
        "Add more here later...describing the objective the project... \r\n",
        "\r\n",
        "Useful references\r\n",
        "\r\n",
        "\r\n",
        "*   [Pandas documentation: Working with Text Data](https://pandas.pydata.org/pandas-docs/stable/user_guide/text.html)\r\n",
        "*   [Pandas Cheat Sheet](https://github.com/pandas-dev/pandas/blob/master/doc/cheatsheet/Pandas_Cheat_Sheet.pdf)\r\n",
        "\r\n"
      ]
    },
    {
      "cell_type": "markdown",
      "metadata": {
        "id": "gq7pFzIuaTH1"
      },
      "source": [
        "### Load Data"
      ]
    },
    {
      "cell_type": "code",
      "metadata": {
        "id": "Uq2Gs_j1acXo"
      },
      "source": [
        "# Import all necessary libraries \r\n",
        "import pandas as pd\r\n",
        "import numpy as np"
      ],
      "execution_count": 1,
      "outputs": []
    },
    {
      "cell_type": "code",
      "metadata": {
        "id": "e8DAb2lIam8M"
      },
      "source": [
        "# Declare a variable for each csv file and read the data\r\n",
        "cellPhone_url = \"https://raw.githubusercontent.com/zalihat/cell_phone_dataset/master/cell_phones.csv\"\r\n",
        "population_url = \"https://raw.githubusercontent.com/zalihat/cell_phone_dataset/master/population1.csv\"\r\n",
        "geoCountry_url = \"https://raw.githubusercontent.com/open-numbers/ddf--gapminder--systema_globalis/master/ddf--entities--geo--country.csv\"\r\n",
        "\r\n",
        "cellPhone_df = pd.read_csv(cellPhone_url)\r\n",
        "population_df = pd.read_csv(population_url)\r\n",
        "geoCountry_df = pd.read_csv(geoCountry_url)"
      ],
      "execution_count": 2,
      "outputs": []
    },
    {
      "cell_type": "code",
      "metadata": {
        "colab": {
          "base_uri": "https://localhost:8080/"
        },
        "id": "lXAcgCywcIye",
        "outputId": "f76d1c63-0d01-4c46-de8c-639c1454aa99"
      },
      "source": [
        "print(cellPhone_df.head())\r\n",
        "print(cellPhone_df.ndim)\r\n",
        "print(cellPhone_df.shape)"
      ],
      "execution_count": 3,
      "outputs": [
        {
          "output_type": "stream",
          "text": [
            "       Country  year  cell_phones_total\n",
            "0  Afghanistan  1960                0.0\n",
            "1  Afghanistan  1961                0.0\n",
            "2  Afghanistan  1962                0.0\n",
            "3  Afghanistan  1963                0.0\n",
            "4  Afghanistan  1964                0.0\n",
            "2\n",
            "(11640, 3)\n"
          ],
          "name": "stdout"
        }
      ]
    },
    {
      "cell_type": "code",
      "metadata": {
        "colab": {
          "base_uri": "https://localhost:8080/"
        },
        "id": "2LaluFrGcnhz",
        "outputId": "303f167f-100c-42f6-f987-fa382999fddb"
      },
      "source": [
        "print(population_df.head())\r\n",
        "print(population_df.ndim)\r\n",
        "print(population_df.shape)"
      ],
      "execution_count": 4,
      "outputs": [
        {
          "output_type": "stream",
          "text": [
            "       Country  year  population\n",
            "0  Afghanistan  1800     3280000\n",
            "1  Afghanistan  1801     3280000\n",
            "2  Afghanistan  1802     3280000\n",
            "3  Afghanistan  1803     3280000\n",
            "4  Afghanistan  1804     3280000\n",
            "2\n",
            "(58695, 3)\n"
          ],
          "name": "stdout"
        }
      ]
    },
    {
      "cell_type": "code",
      "metadata": {
        "colab": {
          "base_uri": "https://localhost:8080/"
        },
        "id": "6hBS1EK0cv4q",
        "outputId": "2d48a8df-f8ef-4eb8-df49-cd21eda4153b"
      },
      "source": [
        "print(geoCountry_df.head())\r\n",
        "print(geoCountry_df.ndim)\r\n",
        "print(geoCountry_df.shape)"
      ],
      "execution_count": 5,
      "outputs": [
        {
          "output_type": "stream",
          "text": [
            "  country g77_and_oecd_countries  ... world_4region        world_6region\n",
            "0    abkh                 others  ...        europe  europe_central_asia\n",
            "1     abw                 others  ...      americas              america\n",
            "2     afg                    g77  ...          asia           south_asia\n",
            "3     ago                    g77  ...        africa   sub_saharan_africa\n",
            "4     aia                 others  ...      americas              america\n",
            "\n",
            "[5 rows x 21 columns]\n",
            "2\n",
            "(273, 21)\n"
          ],
          "name": "stdout"
        }
      ]
    },
    {
      "cell_type": "markdown",
      "metadata": {
        "id": "yl0JC_RZeHF_"
      },
      "source": [
        "### Join Data\r\n",
        "\r\n",
        "\r\n",
        "\r\n",
        "*   [Pandas merge() documentation](https://pandas.pydata.org/pandas-docs/stable/reference/api/pandas.DataFrame.merge.html)\r\n",
        "*   [Pandas rename() documentation](https://pandas.pydata.org/pandas-docs/stable/reference/api/pandas.DataFrame.rename.html)\r\n",
        "\r\n"
      ]
    },
    {
      "cell_type": "code",
      "metadata": {
        "colab": {
          "base_uri": "https://localhost:8080/",
          "height": 201
        },
        "id": "wqsJw3vgPlE1",
        "outputId": "89e52ea4-3061-406a-9d33-1be57cf2af56"
      },
      "source": [
        "# Join the \"cellphones\" and 'population' dataframe (with an inner join on country and year)\r\n",
        "cell_popl_df = pd.merge(cellPhone_df, population_df, how = 'inner', on=['Country','year'])\r\n",
        "cell_popl_df.head()"
      ],
      "execution_count": 6,
      "outputs": [
        {
          "output_type": "execute_result",
          "data": {
            "text/html": [
              "<div>\n",
              "<style scoped>\n",
              "    .dataframe tbody tr th:only-of-type {\n",
              "        vertical-align: middle;\n",
              "    }\n",
              "\n",
              "    .dataframe tbody tr th {\n",
              "        vertical-align: top;\n",
              "    }\n",
              "\n",
              "    .dataframe thead th {\n",
              "        text-align: right;\n",
              "    }\n",
              "</style>\n",
              "<table border=\"1\" class=\"dataframe\">\n",
              "  <thead>\n",
              "    <tr style=\"text-align: right;\">\n",
              "      <th></th>\n",
              "      <th>Country</th>\n",
              "      <th>year</th>\n",
              "      <th>cell_phones_total</th>\n",
              "      <th>population</th>\n",
              "    </tr>\n",
              "  </thead>\n",
              "  <tbody>\n",
              "    <tr>\n",
              "      <th>0</th>\n",
              "      <td>Afghanistan</td>\n",
              "      <td>1960</td>\n",
              "      <td>0.0</td>\n",
              "      <td>9000000</td>\n",
              "    </tr>\n",
              "    <tr>\n",
              "      <th>1</th>\n",
              "      <td>Afghanistan</td>\n",
              "      <td>1961</td>\n",
              "      <td>0.0</td>\n",
              "      <td>9170000</td>\n",
              "    </tr>\n",
              "    <tr>\n",
              "      <th>2</th>\n",
              "      <td>Afghanistan</td>\n",
              "      <td>1962</td>\n",
              "      <td>0.0</td>\n",
              "      <td>9350000</td>\n",
              "    </tr>\n",
              "    <tr>\n",
              "      <th>3</th>\n",
              "      <td>Afghanistan</td>\n",
              "      <td>1963</td>\n",
              "      <td>0.0</td>\n",
              "      <td>9540000</td>\n",
              "    </tr>\n",
              "    <tr>\n",
              "      <th>4</th>\n",
              "      <td>Afghanistan</td>\n",
              "      <td>1964</td>\n",
              "      <td>0.0</td>\n",
              "      <td>9740000</td>\n",
              "    </tr>\n",
              "  </tbody>\n",
              "</table>\n",
              "</div>"
            ],
            "text/plain": [
              "       Country  year  cell_phones_total  population\n",
              "0  Afghanistan  1960                0.0     9000000\n",
              "1  Afghanistan  1961                0.0     9170000\n",
              "2  Afghanistan  1962                0.0     9350000\n",
              "3  Afghanistan  1963                0.0     9540000\n",
              "4  Afghanistan  1964                0.0     9740000"
            ]
          },
          "metadata": {
            "tags": []
          },
          "execution_count": 6
        }
      ]
    },
    {
      "cell_type": "code",
      "metadata": {
        "colab": {
          "base_uri": "https://localhost:8080/"
        },
        "id": "QmphA1ziQTWz",
        "outputId": "c18a51f2-3b19-47fd-b42f-7f306419a6dd"
      },
      "source": [
        "cell_popl_df.shape"
      ],
      "execution_count": 7,
      "outputs": [
        {
          "output_type": "execute_result",
          "data": {
            "text/plain": [
              "(11640, 4)"
            ]
          },
          "metadata": {
            "tags": []
          },
          "execution_count": 7
        }
      ]
    },
    {
      "cell_type": "code",
      "metadata": {
        "colab": {
          "base_uri": "https://localhost:8080/",
          "height": 238
        },
        "id": "dV4xhNmsQp6E",
        "outputId": "4cb15318-a0d7-4e68-d38f-fc92325d730c"
      },
      "source": [
        "rename_cols = {'country':'geo', 'name':'Country'}\r\n",
        "geoCountry_df.rename(columns = rename_cols, inplace = True)\r\n",
        "geoCountry_df.head()"
      ],
      "execution_count": 8,
      "outputs": [
        {
          "output_type": "execute_result",
          "data": {
            "text/html": [
              "<div>\n",
              "<style scoped>\n",
              "    .dataframe tbody tr th:only-of-type {\n",
              "        vertical-align: middle;\n",
              "    }\n",
              "\n",
              "    .dataframe tbody tr th {\n",
              "        vertical-align: top;\n",
              "    }\n",
              "\n",
              "    .dataframe thead th {\n",
              "        text-align: right;\n",
              "    }\n",
              "</style>\n",
              "<table border=\"1\" class=\"dataframe\">\n",
              "  <thead>\n",
              "    <tr style=\"text-align: right;\">\n",
              "      <th></th>\n",
              "      <th>geo</th>\n",
              "      <th>g77_and_oecd_countries</th>\n",
              "      <th>income_3groups</th>\n",
              "      <th>income_groups</th>\n",
              "      <th>is--country</th>\n",
              "      <th>iso3166_1_alpha2</th>\n",
              "      <th>iso3166_1_alpha3</th>\n",
              "      <th>iso3166_1_numeric</th>\n",
              "      <th>iso3166_2</th>\n",
              "      <th>landlocked</th>\n",
              "      <th>latitude</th>\n",
              "      <th>longitude</th>\n",
              "      <th>main_religion_2008</th>\n",
              "      <th>Country</th>\n",
              "      <th>un_sdg_ldc</th>\n",
              "      <th>un_sdg_region</th>\n",
              "      <th>un_state</th>\n",
              "      <th>unicef_region</th>\n",
              "      <th>unicode_region_subtag</th>\n",
              "      <th>world_4region</th>\n",
              "      <th>world_6region</th>\n",
              "    </tr>\n",
              "  </thead>\n",
              "  <tbody>\n",
              "    <tr>\n",
              "      <th>0</th>\n",
              "      <td>abkh</td>\n",
              "      <td>others</td>\n",
              "      <td>NaN</td>\n",
              "      <td>NaN</td>\n",
              "      <td>True</td>\n",
              "      <td>NaN</td>\n",
              "      <td>NaN</td>\n",
              "      <td>NaN</td>\n",
              "      <td>NaN</td>\n",
              "      <td>NaN</td>\n",
              "      <td>NaN</td>\n",
              "      <td>NaN</td>\n",
              "      <td>NaN</td>\n",
              "      <td>Abkhazia</td>\n",
              "      <td>NaN</td>\n",
              "      <td>NaN</td>\n",
              "      <td>False</td>\n",
              "      <td>NaN</td>\n",
              "      <td>NaN</td>\n",
              "      <td>europe</td>\n",
              "      <td>europe_central_asia</td>\n",
              "    </tr>\n",
              "    <tr>\n",
              "      <th>1</th>\n",
              "      <td>abw</td>\n",
              "      <td>others</td>\n",
              "      <td>high_income</td>\n",
              "      <td>high_income</td>\n",
              "      <td>True</td>\n",
              "      <td>AW</td>\n",
              "      <td>ABW</td>\n",
              "      <td>533.0</td>\n",
              "      <td>NaN</td>\n",
              "      <td>coastline</td>\n",
              "      <td>12.50000</td>\n",
              "      <td>-69.96667</td>\n",
              "      <td>christian</td>\n",
              "      <td>Aruba</td>\n",
              "      <td>un_not_least_developed</td>\n",
              "      <td>un_latin_america_and_the_caribbean</td>\n",
              "      <td>False</td>\n",
              "      <td>NaN</td>\n",
              "      <td>AW</td>\n",
              "      <td>americas</td>\n",
              "      <td>america</td>\n",
              "    </tr>\n",
              "    <tr>\n",
              "      <th>2</th>\n",
              "      <td>afg</td>\n",
              "      <td>g77</td>\n",
              "      <td>low_income</td>\n",
              "      <td>low_income</td>\n",
              "      <td>True</td>\n",
              "      <td>AF</td>\n",
              "      <td>AFG</td>\n",
              "      <td>4.0</td>\n",
              "      <td>NaN</td>\n",
              "      <td>landlocked</td>\n",
              "      <td>33.00000</td>\n",
              "      <td>66.00000</td>\n",
              "      <td>muslim</td>\n",
              "      <td>Afghanistan</td>\n",
              "      <td>un_least_developed</td>\n",
              "      <td>un_central_and_southern_asia</td>\n",
              "      <td>True</td>\n",
              "      <td>sa</td>\n",
              "      <td>AF</td>\n",
              "      <td>asia</td>\n",
              "      <td>south_asia</td>\n",
              "    </tr>\n",
              "    <tr>\n",
              "      <th>3</th>\n",
              "      <td>ago</td>\n",
              "      <td>g77</td>\n",
              "      <td>middle_income</td>\n",
              "      <td>lower_middle_income</td>\n",
              "      <td>True</td>\n",
              "      <td>AO</td>\n",
              "      <td>AGO</td>\n",
              "      <td>24.0</td>\n",
              "      <td>NaN</td>\n",
              "      <td>coastline</td>\n",
              "      <td>-12.50000</td>\n",
              "      <td>18.50000</td>\n",
              "      <td>christian</td>\n",
              "      <td>Angola</td>\n",
              "      <td>un_least_developed</td>\n",
              "      <td>un_sub_saharan_africa</td>\n",
              "      <td>True</td>\n",
              "      <td>ssa</td>\n",
              "      <td>AO</td>\n",
              "      <td>africa</td>\n",
              "      <td>sub_saharan_africa</td>\n",
              "    </tr>\n",
              "    <tr>\n",
              "      <th>4</th>\n",
              "      <td>aia</td>\n",
              "      <td>others</td>\n",
              "      <td>NaN</td>\n",
              "      <td>NaN</td>\n",
              "      <td>True</td>\n",
              "      <td>AI</td>\n",
              "      <td>AIA</td>\n",
              "      <td>660.0</td>\n",
              "      <td>NaN</td>\n",
              "      <td>coastline</td>\n",
              "      <td>18.21667</td>\n",
              "      <td>-63.05000</td>\n",
              "      <td>christian</td>\n",
              "      <td>Anguilla</td>\n",
              "      <td>un_not_least_developed</td>\n",
              "      <td>un_latin_america_and_the_caribbean</td>\n",
              "      <td>False</td>\n",
              "      <td>NaN</td>\n",
              "      <td>AI</td>\n",
              "      <td>americas</td>\n",
              "      <td>america</td>\n",
              "    </tr>\n",
              "  </tbody>\n",
              "</table>\n",
              "</div>"
            ],
            "text/plain": [
              "    geo g77_and_oecd_countries  ... world_4region        world_6region\n",
              "0  abkh                 others  ...        europe  europe_central_asia\n",
              "1   abw                 others  ...      americas              america\n",
              "2   afg                    g77  ...          asia           south_asia\n",
              "3   ago                    g77  ...        africa   sub_saharan_africa\n",
              "4   aia                 others  ...      americas              america\n",
              "\n",
              "[5 rows x 21 columns]"
            ]
          },
          "metadata": {
            "tags": []
          },
          "execution_count": 8
        }
      ]
    },
    {
      "cell_type": "code",
      "metadata": {
        "id": "M_tTKFgMSQs8",
        "colab": {
          "base_uri": "https://localhost:8080/",
          "height": 201
        },
        "outputId": "0dfa9718-5ee0-478b-c0d6-a27a0e52f1dd"
      },
      "source": [
        "cell_popl_geo_df = pd.merge(cell_popl_df, geoCountry_df[['geo','Country']], how = 'left', on= 'Country')\r\n",
        "cell_popl_geo_df.head()"
      ],
      "execution_count": 9,
      "outputs": [
        {
          "output_type": "execute_result",
          "data": {
            "text/html": [
              "<div>\n",
              "<style scoped>\n",
              "    .dataframe tbody tr th:only-of-type {\n",
              "        vertical-align: middle;\n",
              "    }\n",
              "\n",
              "    .dataframe tbody tr th {\n",
              "        vertical-align: top;\n",
              "    }\n",
              "\n",
              "    .dataframe thead th {\n",
              "        text-align: right;\n",
              "    }\n",
              "</style>\n",
              "<table border=\"1\" class=\"dataframe\">\n",
              "  <thead>\n",
              "    <tr style=\"text-align: right;\">\n",
              "      <th></th>\n",
              "      <th>Country</th>\n",
              "      <th>year</th>\n",
              "      <th>cell_phones_total</th>\n",
              "      <th>population</th>\n",
              "      <th>geo</th>\n",
              "    </tr>\n",
              "  </thead>\n",
              "  <tbody>\n",
              "    <tr>\n",
              "      <th>0</th>\n",
              "      <td>Afghanistan</td>\n",
              "      <td>1960</td>\n",
              "      <td>0.0</td>\n",
              "      <td>9000000</td>\n",
              "      <td>afg</td>\n",
              "    </tr>\n",
              "    <tr>\n",
              "      <th>1</th>\n",
              "      <td>Afghanistan</td>\n",
              "      <td>1961</td>\n",
              "      <td>0.0</td>\n",
              "      <td>9170000</td>\n",
              "      <td>afg</td>\n",
              "    </tr>\n",
              "    <tr>\n",
              "      <th>2</th>\n",
              "      <td>Afghanistan</td>\n",
              "      <td>1962</td>\n",
              "      <td>0.0</td>\n",
              "      <td>9350000</td>\n",
              "      <td>afg</td>\n",
              "    </tr>\n",
              "    <tr>\n",
              "      <th>3</th>\n",
              "      <td>Afghanistan</td>\n",
              "      <td>1963</td>\n",
              "      <td>0.0</td>\n",
              "      <td>9540000</td>\n",
              "      <td>afg</td>\n",
              "    </tr>\n",
              "    <tr>\n",
              "      <th>4</th>\n",
              "      <td>Afghanistan</td>\n",
              "      <td>1964</td>\n",
              "      <td>0.0</td>\n",
              "      <td>9740000</td>\n",
              "      <td>afg</td>\n",
              "    </tr>\n",
              "  </tbody>\n",
              "</table>\n",
              "</div>"
            ],
            "text/plain": [
              "       Country  year  cell_phones_total  population  geo\n",
              "0  Afghanistan  1960                0.0     9000000  afg\n",
              "1  Afghanistan  1961                0.0     9170000  afg\n",
              "2  Afghanistan  1962                0.0     9350000  afg\n",
              "3  Afghanistan  1963                0.0     9540000  afg\n",
              "4  Afghanistan  1964                0.0     9740000  afg"
            ]
          },
          "metadata": {
            "tags": []
          },
          "execution_count": 9
        }
      ]
    },
    {
      "cell_type": "code",
      "metadata": {
        "colab": {
          "base_uri": "https://localhost:8080/"
        },
        "id": "8lYq88kkULb1",
        "outputId": "d0d9ea7d-573e-40a7-8247-111584ab8eb8"
      },
      "source": [
        "cell_popl_geo_df.shape"
      ],
      "execution_count": 10,
      "outputs": [
        {
          "output_type": "execute_result",
          "data": {
            "text/plain": [
              "(11640, 5)"
            ]
          },
          "metadata": {
            "tags": []
          },
          "execution_count": 10
        }
      ]
    },
    {
      "cell_type": "markdown",
      "metadata": {
        "id": "ndORt8v8UTW3"
      },
      "source": [
        "### Make Features \r\n",
        "\r\n",
        "\r\n",
        "*   [str.upper() documentation](https://pandas.pydata.org/pandas-docs/stable/reference/api/pandas.Series.str.upper.html#pandas.Series.str.upper)\r\n",
        "\r\n"
      ]
    },
    {
      "cell_type": "code",
      "metadata": {
        "colab": {
          "base_uri": "https://localhost:8080/",
          "height": 413
        },
        "id": "f43ivBZ9VBj8",
        "outputId": "18a51c7b-0790-445b-c001-218e3daaf851"
      },
      "source": [
        "# Calculate the number of cell phones per person, and add this column onto the df\r\n",
        "\r\n",
        "# cell_popl_geo_df.cell_phones_total/cell_popl_geo_df.population\r\n",
        "num_cell_phones_per_person = cell_popl_geo_df['cell_phones_total']/cell_popl_geo_df['population']\r\n",
        "cell_popl_geo_df['num_cell_phones_per_person'] = num_cell_phones_per_person\r\n",
        "cell_popl_geo_df"
      ],
      "execution_count": 11,
      "outputs": [
        {
          "output_type": "execute_result",
          "data": {
            "text/html": [
              "<div>\n",
              "<style scoped>\n",
              "    .dataframe tbody tr th:only-of-type {\n",
              "        vertical-align: middle;\n",
              "    }\n",
              "\n",
              "    .dataframe tbody tr th {\n",
              "        vertical-align: top;\n",
              "    }\n",
              "\n",
              "    .dataframe thead th {\n",
              "        text-align: right;\n",
              "    }\n",
              "</style>\n",
              "<table border=\"1\" class=\"dataframe\">\n",
              "  <thead>\n",
              "    <tr style=\"text-align: right;\">\n",
              "      <th></th>\n",
              "      <th>Country</th>\n",
              "      <th>year</th>\n",
              "      <th>cell_phones_total</th>\n",
              "      <th>population</th>\n",
              "      <th>geo</th>\n",
              "      <th>num_cell_phones_per_person</th>\n",
              "    </tr>\n",
              "  </thead>\n",
              "  <tbody>\n",
              "    <tr>\n",
              "      <th>0</th>\n",
              "      <td>Afghanistan</td>\n",
              "      <td>1960</td>\n",
              "      <td>0.0</td>\n",
              "      <td>9000000</td>\n",
              "      <td>afg</td>\n",
              "      <td>0.000000</td>\n",
              "    </tr>\n",
              "    <tr>\n",
              "      <th>1</th>\n",
              "      <td>Afghanistan</td>\n",
              "      <td>1961</td>\n",
              "      <td>0.0</td>\n",
              "      <td>9170000</td>\n",
              "      <td>afg</td>\n",
              "      <td>0.000000</td>\n",
              "    </tr>\n",
              "    <tr>\n",
              "      <th>2</th>\n",
              "      <td>Afghanistan</td>\n",
              "      <td>1962</td>\n",
              "      <td>0.0</td>\n",
              "      <td>9350000</td>\n",
              "      <td>afg</td>\n",
              "      <td>0.000000</td>\n",
              "    </tr>\n",
              "    <tr>\n",
              "      <th>3</th>\n",
              "      <td>Afghanistan</td>\n",
              "      <td>1963</td>\n",
              "      <td>0.0</td>\n",
              "      <td>9540000</td>\n",
              "      <td>afg</td>\n",
              "      <td>0.000000</td>\n",
              "    </tr>\n",
              "    <tr>\n",
              "      <th>4</th>\n",
              "      <td>Afghanistan</td>\n",
              "      <td>1964</td>\n",
              "      <td>0.0</td>\n",
              "      <td>9740000</td>\n",
              "      <td>afg</td>\n",
              "      <td>0.000000</td>\n",
              "    </tr>\n",
              "    <tr>\n",
              "      <th>...</th>\n",
              "      <td>...</td>\n",
              "      <td>...</td>\n",
              "      <td>...</td>\n",
              "      <td>...</td>\n",
              "      <td>...</td>\n",
              "      <td>...</td>\n",
              "    </tr>\n",
              "    <tr>\n",
              "      <th>11635</th>\n",
              "      <td>Zimbabwe</td>\n",
              "      <td>2015</td>\n",
              "      <td>12800000.0</td>\n",
              "      <td>13800000</td>\n",
              "      <td>zwe</td>\n",
              "      <td>0.927536</td>\n",
              "    </tr>\n",
              "    <tr>\n",
              "      <th>11636</th>\n",
              "      <td>Zimbabwe</td>\n",
              "      <td>2016</td>\n",
              "      <td>12900000.0</td>\n",
              "      <td>14000000</td>\n",
              "      <td>zwe</td>\n",
              "      <td>0.921429</td>\n",
              "    </tr>\n",
              "    <tr>\n",
              "      <th>11637</th>\n",
              "      <td>Zimbabwe</td>\n",
              "      <td>2017</td>\n",
              "      <td>14100000.0</td>\n",
              "      <td>14200000</td>\n",
              "      <td>zwe</td>\n",
              "      <td>0.992958</td>\n",
              "    </tr>\n",
              "    <tr>\n",
              "      <th>11638</th>\n",
              "      <td>Zimbabwe</td>\n",
              "      <td>2018</td>\n",
              "      <td>12900000.0</td>\n",
              "      <td>14400000</td>\n",
              "      <td>zwe</td>\n",
              "      <td>0.895833</td>\n",
              "    </tr>\n",
              "    <tr>\n",
              "      <th>11639</th>\n",
              "      <td>Zimbabwe</td>\n",
              "      <td>2019</td>\n",
              "      <td>13200000.0</td>\n",
              "      <td>14600000</td>\n",
              "      <td>zwe</td>\n",
              "      <td>0.904110</td>\n",
              "    </tr>\n",
              "  </tbody>\n",
              "</table>\n",
              "<p>11640 rows × 6 columns</p>\n",
              "</div>"
            ],
            "text/plain": [
              "           Country  year  ...  geo  num_cell_phones_per_person\n",
              "0      Afghanistan  1960  ...  afg                    0.000000\n",
              "1      Afghanistan  1961  ...  afg                    0.000000\n",
              "2      Afghanistan  1962  ...  afg                    0.000000\n",
              "3      Afghanistan  1963  ...  afg                    0.000000\n",
              "4      Afghanistan  1964  ...  afg                    0.000000\n",
              "...            ...   ...  ...  ...                         ...\n",
              "11635     Zimbabwe  2015  ...  zwe                    0.927536\n",
              "11636     Zimbabwe  2016  ...  zwe                    0.921429\n",
              "11637     Zimbabwe  2017  ...  zwe                    0.992958\n",
              "11638     Zimbabwe  2018  ...  zwe                    0.895833\n",
              "11639     Zimbabwe  2019  ...  zwe                    0.904110\n",
              "\n",
              "[11640 rows x 6 columns]"
            ]
          },
          "metadata": {
            "tags": []
          },
          "execution_count": 11
        }
      ]
    },
    {
      "cell_type": "code",
      "metadata": {
        "colab": {
          "base_uri": "https://localhost:8080/",
          "height": 79
        },
        "id": "uTm5CXmIWTlr",
        "outputId": "d23d85ca-80c7-4c2e-ac1b-a358a8af1ee8"
      },
      "source": [
        "cond_1 = cell_popl_geo_df['Country'] == 'United States'\r\n",
        "cond_2 = cell_popl_geo_df['year'] == 2017\r\n",
        "cell_popl_geo_df[(cond_1) & (cond_2) ]"
      ],
      "execution_count": 12,
      "outputs": [
        {
          "output_type": "execute_result",
          "data": {
            "text/html": [
              "<div>\n",
              "<style scoped>\n",
              "    .dataframe tbody tr th:only-of-type {\n",
              "        vertical-align: middle;\n",
              "    }\n",
              "\n",
              "    .dataframe tbody tr th {\n",
              "        vertical-align: top;\n",
              "    }\n",
              "\n",
              "    .dataframe thead th {\n",
              "        text-align: right;\n",
              "    }\n",
              "</style>\n",
              "<table border=\"1\" class=\"dataframe\">\n",
              "  <thead>\n",
              "    <tr style=\"text-align: right;\">\n",
              "      <th></th>\n",
              "      <th>Country</th>\n",
              "      <th>year</th>\n",
              "      <th>cell_phones_total</th>\n",
              "      <th>population</th>\n",
              "      <th>geo</th>\n",
              "      <th>num_cell_phones_per_person</th>\n",
              "    </tr>\n",
              "  </thead>\n",
              "  <tbody>\n",
              "    <tr>\n",
              "      <th>11157</th>\n",
              "      <td>United States</td>\n",
              "      <td>2017</td>\n",
              "      <td>400000000.0</td>\n",
              "      <td>325000000</td>\n",
              "      <td>usa</td>\n",
              "      <td>1.230769</td>\n",
              "    </tr>\n",
              "  </tbody>\n",
              "</table>\n",
              "</div>"
            ],
            "text/plain": [
              "             Country  year  ...  geo  num_cell_phones_per_person\n",
              "11157  United States  2017  ...  usa                    1.230769\n",
              "\n",
              "[1 rows x 6 columns]"
            ]
          },
          "metadata": {
            "tags": []
          },
          "execution_count": 12
        }
      ]
    },
    {
      "cell_type": "code",
      "metadata": {
        "colab": {
          "base_uri": "https://localhost:8080/"
        },
        "id": "bEmUkwVIaFPE",
        "outputId": "41380d25-8e83-48bb-99c7-82c9acfc887d"
      },
      "source": [
        "print(round(cell_popl_geo_df[(cond_1) & (cond_2) ].iat[0,5],6))"
      ],
      "execution_count": 13,
      "outputs": [
        {
          "output_type": "stream",
          "text": [
            "1.230769\n"
          ],
          "name": "stdout"
        }
      ]
    },
    {
      "cell_type": "code",
      "metadata": {
        "colab": {
          "base_uri": "https://localhost:8080/"
        },
        "id": "v92oGvpBXMtF",
        "outputId": "d671ad4e-c337-4b02-d80f-6cd77c65641d"
      },
      "source": [
        "assert 1.230769 == round(cell_popl_geo_df[(cond_1) & (cond_2) ].iat[0,5],6)\r\n",
        "print('condition returned True (no AssertionError)')"
      ],
      "execution_count": 14,
      "outputs": [
        {
          "output_type": "stream",
          "text": [
            "condition returned True (no AssertionError)\n"
          ],
          "name": "stdout"
        }
      ]
    },
    {
      "cell_type": "code",
      "metadata": {
        "id": "Yq-VYr8HYuy5",
        "colab": {
          "base_uri": "https://localhost:8080/",
          "height": 201
        },
        "outputId": "bec526ec-d254-4927-bbb8-cad7a72abcce"
      },
      "source": [
        "cell_popl_geo_df['geo'] = cell_popl_geo_df['geo'].str.upper()\r\n",
        "cell_popl_geo_df.head()"
      ],
      "execution_count": 15,
      "outputs": [
        {
          "output_type": "execute_result",
          "data": {
            "text/html": [
              "<div>\n",
              "<style scoped>\n",
              "    .dataframe tbody tr th:only-of-type {\n",
              "        vertical-align: middle;\n",
              "    }\n",
              "\n",
              "    .dataframe tbody tr th {\n",
              "        vertical-align: top;\n",
              "    }\n",
              "\n",
              "    .dataframe thead th {\n",
              "        text-align: right;\n",
              "    }\n",
              "</style>\n",
              "<table border=\"1\" class=\"dataframe\">\n",
              "  <thead>\n",
              "    <tr style=\"text-align: right;\">\n",
              "      <th></th>\n",
              "      <th>Country</th>\n",
              "      <th>year</th>\n",
              "      <th>cell_phones_total</th>\n",
              "      <th>population</th>\n",
              "      <th>geo</th>\n",
              "      <th>num_cell_phones_per_person</th>\n",
              "    </tr>\n",
              "  </thead>\n",
              "  <tbody>\n",
              "    <tr>\n",
              "      <th>0</th>\n",
              "      <td>Afghanistan</td>\n",
              "      <td>1960</td>\n",
              "      <td>0.0</td>\n",
              "      <td>9000000</td>\n",
              "      <td>AFG</td>\n",
              "      <td>0.0</td>\n",
              "    </tr>\n",
              "    <tr>\n",
              "      <th>1</th>\n",
              "      <td>Afghanistan</td>\n",
              "      <td>1961</td>\n",
              "      <td>0.0</td>\n",
              "      <td>9170000</td>\n",
              "      <td>AFG</td>\n",
              "      <td>0.0</td>\n",
              "    </tr>\n",
              "    <tr>\n",
              "      <th>2</th>\n",
              "      <td>Afghanistan</td>\n",
              "      <td>1962</td>\n",
              "      <td>0.0</td>\n",
              "      <td>9350000</td>\n",
              "      <td>AFG</td>\n",
              "      <td>0.0</td>\n",
              "    </tr>\n",
              "    <tr>\n",
              "      <th>3</th>\n",
              "      <td>Afghanistan</td>\n",
              "      <td>1963</td>\n",
              "      <td>0.0</td>\n",
              "      <td>9540000</td>\n",
              "      <td>AFG</td>\n",
              "      <td>0.0</td>\n",
              "    </tr>\n",
              "    <tr>\n",
              "      <th>4</th>\n",
              "      <td>Afghanistan</td>\n",
              "      <td>1964</td>\n",
              "      <td>0.0</td>\n",
              "      <td>9740000</td>\n",
              "      <td>AFG</td>\n",
              "      <td>0.0</td>\n",
              "    </tr>\n",
              "  </tbody>\n",
              "</table>\n",
              "</div>"
            ],
            "text/plain": [
              "       Country  year  ...  geo  num_cell_phones_per_person\n",
              "0  Afghanistan  1960  ...  AFG                         0.0\n",
              "1  Afghanistan  1961  ...  AFG                         0.0\n",
              "2  Afghanistan  1962  ...  AFG                         0.0\n",
              "3  Afghanistan  1963  ...  AFG                         0.0\n",
              "4  Afghanistan  1964  ...  AFG                         0.0\n",
              "\n",
              "[5 rows x 6 columns]"
            ]
          },
          "metadata": {
            "tags": []
          },
          "execution_count": 15
        }
      ]
    },
    {
      "cell_type": "markdown",
      "metadata": {
        "id": "L37yej9uYyvw"
      },
      "source": [
        "### Process Data \r\n",
        "\r\n",
        "* [describe() documentation](https://pandas.pydata.org/pandas-docs/stable/reference/api/pandas.DataFrame.describe.html)"
      ]
    },
    {
      "cell_type": "code",
      "metadata": {
        "colab": {
          "base_uri": "https://localhost:8080/",
          "height": 293
        },
        "id": "6WNVa-dcZtu0",
        "outputId": "7fadad83-eb97-4fc6-af86-bf0652955260"
      },
      "source": [
        "# Generate descriptive statistics for numeric columns \r\n",
        "# cell_popl_geo_df.describe(include = [np.number])\r\n",
        "cell_popl_geo_df.describe()"
      ],
      "execution_count": 16,
      "outputs": [
        {
          "output_type": "execute_result",
          "data": {
            "text/html": [
              "<div>\n",
              "<style scoped>\n",
              "    .dataframe tbody tr th:only-of-type {\n",
              "        vertical-align: middle;\n",
              "    }\n",
              "\n",
              "    .dataframe tbody tr th {\n",
              "        vertical-align: top;\n",
              "    }\n",
              "\n",
              "    .dataframe thead th {\n",
              "        text-align: right;\n",
              "    }\n",
              "</style>\n",
              "<table border=\"1\" class=\"dataframe\">\n",
              "  <thead>\n",
              "    <tr style=\"text-align: right;\">\n",
              "      <th></th>\n",
              "      <th>year</th>\n",
              "      <th>cell_phones_total</th>\n",
              "      <th>population</th>\n",
              "      <th>num_cell_phones_per_person</th>\n",
              "    </tr>\n",
              "  </thead>\n",
              "  <tbody>\n",
              "    <tr>\n",
              "      <th>count</th>\n",
              "      <td>11640.000000</td>\n",
              "      <td>1.164000e+04</td>\n",
              "      <td>1.164000e+04</td>\n",
              "      <td>11640.000000</td>\n",
              "    </tr>\n",
              "    <tr>\n",
              "      <th>mean</th>\n",
              "      <td>1989.500000</td>\n",
              "      <td>7.875722e+06</td>\n",
              "      <td>2.710307e+07</td>\n",
              "      <td>0.235536</td>\n",
              "    </tr>\n",
              "    <tr>\n",
              "      <th>std</th>\n",
              "      <td>17.318846</td>\n",
              "      <td>5.572496e+07</td>\n",
              "      <td>1.086187e+08</td>\n",
              "      <td>0.433303</td>\n",
              "    </tr>\n",
              "    <tr>\n",
              "      <th>min</th>\n",
              "      <td>1960.000000</td>\n",
              "      <td>0.000000e+00</td>\n",
              "      <td>4.380000e+03</td>\n",
              "      <td>0.000000</td>\n",
              "    </tr>\n",
              "    <tr>\n",
              "      <th>25%</th>\n",
              "      <td>1974.750000</td>\n",
              "      <td>0.000000e+00</td>\n",
              "      <td>1.117500e+06</td>\n",
              "      <td>0.000000</td>\n",
              "    </tr>\n",
              "    <tr>\n",
              "      <th>50%</th>\n",
              "      <td>1989.500000</td>\n",
              "      <td>0.000000e+00</td>\n",
              "      <td>5.100000e+06</td>\n",
              "      <td>0.000000</td>\n",
              "    </tr>\n",
              "    <tr>\n",
              "      <th>75%</th>\n",
              "      <td>2004.250000</td>\n",
              "      <td>5.615000e+05</td>\n",
              "      <td>1.590000e+07</td>\n",
              "      <td>0.233667</td>\n",
              "    </tr>\n",
              "    <tr>\n",
              "      <th>max</th>\n",
              "      <td>2019.000000</td>\n",
              "      <td>1.730000e+09</td>\n",
              "      <td>1.430000e+09</td>\n",
              "      <td>2.126068</td>\n",
              "    </tr>\n",
              "  </tbody>\n",
              "</table>\n",
              "</div>"
            ],
            "text/plain": [
              "               year  ...  num_cell_phones_per_person\n",
              "count  11640.000000  ...                11640.000000\n",
              "mean    1989.500000  ...                    0.235536\n",
              "std       17.318846  ...                    0.433303\n",
              "min     1960.000000  ...                    0.000000\n",
              "25%     1974.750000  ...                    0.000000\n",
              "50%     1989.500000  ...                    0.000000\n",
              "75%     2004.250000  ...                    0.233667\n",
              "max     2019.000000  ...                    2.126068\n",
              "\n",
              "[8 rows x 4 columns]"
            ]
          },
          "metadata": {
            "tags": []
          },
          "execution_count": 16
        }
      ]
    },
    {
      "cell_type": "code",
      "metadata": {
        "colab": {
          "base_uri": "https://localhost:8080/",
          "height": 170
        },
        "id": "sP2VTkJhg0RH",
        "outputId": "4feaa5e1-bea1-457c-be57-b619adf386f3"
      },
      "source": [
        "# Generate descriptive statistics for non-numeric columns \r\n",
        "cell_popl_geo_df.describe(exclude=[np.number])"
      ],
      "execution_count": 17,
      "outputs": [
        {
          "output_type": "execute_result",
          "data": {
            "text/html": [
              "<div>\n",
              "<style scoped>\n",
              "    .dataframe tbody tr th:only-of-type {\n",
              "        vertical-align: middle;\n",
              "    }\n",
              "\n",
              "    .dataframe tbody tr th {\n",
              "        vertical-align: top;\n",
              "    }\n",
              "\n",
              "    .dataframe thead th {\n",
              "        text-align: right;\n",
              "    }\n",
              "</style>\n",
              "<table border=\"1\" class=\"dataframe\">\n",
              "  <thead>\n",
              "    <tr style=\"text-align: right;\">\n",
              "      <th></th>\n",
              "      <th>Country</th>\n",
              "      <th>geo</th>\n",
              "    </tr>\n",
              "  </thead>\n",
              "  <tbody>\n",
              "    <tr>\n",
              "      <th>count</th>\n",
              "      <td>11640</td>\n",
              "      <td>11640</td>\n",
              "    </tr>\n",
              "    <tr>\n",
              "      <th>unique</th>\n",
              "      <td>194</td>\n",
              "      <td>194</td>\n",
              "    </tr>\n",
              "    <tr>\n",
              "      <th>top</th>\n",
              "      <td>Belize</td>\n",
              "      <td>KNA</td>\n",
              "    </tr>\n",
              "    <tr>\n",
              "      <th>freq</th>\n",
              "      <td>60</td>\n",
              "      <td>60</td>\n",
              "    </tr>\n",
              "  </tbody>\n",
              "</table>\n",
              "</div>"
            ],
            "text/plain": [
              "       Country    geo\n",
              "count    11640  11640\n",
              "unique     194    194\n",
              "top     Belize    KNA\n",
              "freq        60     60"
            ]
          },
          "metadata": {
            "tags": []
          },
          "execution_count": 17
        }
      ]
    },
    {
      "cell_type": "code",
      "metadata": {
        "colab": {
          "base_uri": "https://localhost:8080/"
        },
        "id": "YPlINDzbhjXc",
        "outputId": "8de7a846-6d41-4c62-ac9e-f8026bb2ee99"
      },
      "source": [
        "assert 1960 == round(cell_popl_geo_df.describe(include=[np.number]).iat[3,0])\r\n",
        "assert 2019 == round(cell_popl_geo_df.describe(include=[np.number]).iat[7,0])\r\n",
        "\r\n",
        "assert 194 == cell_popl_geo_df.describe(exclude=[np.number]).iat[1,0]\r\n",
        "print('condition returned True (no AssertionError)')"
      ],
      "execution_count": 18,
      "outputs": [
        {
          "output_type": "stream",
          "text": [
            "condition returned True (no AssertionError)\n"
          ],
          "name": "stdout"
        }
      ]
    },
    {
      "cell_type": "code",
      "metadata": {
        "colab": {
          "base_uri": "https://localhost:8080/",
          "height": 201
        },
        "id": "vBADEEjciGOc",
        "outputId": "edcd1ce3-017a-400b-e807-e980e12a0891"
      },
      "source": [
        "# top 5 countries with the most cell phones total \r\n",
        "cell_popl_geo_2017_df = cell_popl_geo_df[cell_popl_geo_df['year'] == 2017]\r\n",
        "final_df = cell_popl_geo_2017_df[['Country', 'cell_phones_total']].nlargest(5,'cell_phones_total')\r\n",
        "final_df.reset_index(drop=True)"
      ],
      "execution_count": 19,
      "outputs": [
        {
          "output_type": "execute_result",
          "data": {
            "text/html": [
              "<div>\n",
              "<style scoped>\n",
              "    .dataframe tbody tr th:only-of-type {\n",
              "        vertical-align: middle;\n",
              "    }\n",
              "\n",
              "    .dataframe tbody tr th {\n",
              "        vertical-align: top;\n",
              "    }\n",
              "\n",
              "    .dataframe thead th {\n",
              "        text-align: right;\n",
              "    }\n",
              "</style>\n",
              "<table border=\"1\" class=\"dataframe\">\n",
              "  <thead>\n",
              "    <tr style=\"text-align: right;\">\n",
              "      <th></th>\n",
              "      <th>Country</th>\n",
              "      <th>cell_phones_total</th>\n",
              "    </tr>\n",
              "  </thead>\n",
              "  <tbody>\n",
              "    <tr>\n",
              "      <th>0</th>\n",
              "      <td>China</td>\n",
              "      <td>1.470000e+09</td>\n",
              "    </tr>\n",
              "    <tr>\n",
              "      <th>1</th>\n",
              "      <td>India</td>\n",
              "      <td>1.170000e+09</td>\n",
              "    </tr>\n",
              "    <tr>\n",
              "      <th>2</th>\n",
              "      <td>Indonesia</td>\n",
              "      <td>4.350000e+08</td>\n",
              "    </tr>\n",
              "    <tr>\n",
              "      <th>3</th>\n",
              "      <td>United States</td>\n",
              "      <td>4.000000e+08</td>\n",
              "    </tr>\n",
              "    <tr>\n",
              "      <th>4</th>\n",
              "      <td>Russia</td>\n",
              "      <td>2.270000e+08</td>\n",
              "    </tr>\n",
              "  </tbody>\n",
              "</table>\n",
              "</div>"
            ],
            "text/plain": [
              "         Country  cell_phones_total\n",
              "0          China       1.470000e+09\n",
              "1          India       1.170000e+09\n",
              "2      Indonesia       4.350000e+08\n",
              "3  United States       4.000000e+08\n",
              "4         Russia       2.270000e+08"
            ]
          },
          "metadata": {
            "tags": []
          },
          "execution_count": 19
        }
      ]
    }
  ]
}