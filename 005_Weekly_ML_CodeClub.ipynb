{
  "nbformat": 4,
  "nbformat_minor": 0,
  "metadata": {
    "colab": {
      "name": "005_Weekly_ML_CodeClub.ipynb",
      "provenance": [],
      "collapsed_sections": [],
      "authorship_tag": "ABX9TyNUzClZTL9xF+EzWLYTFKsK",
      "include_colab_link": true
    },
    "kernelspec": {
      "name": "python3",
      "display_name": "Python 3"
    }
  },
  "cells": [
    {
      "cell_type": "markdown",
      "metadata": {
        "id": "view-in-github",
        "colab_type": "text"
      },
      "source": [
        "<a href=\"https://colab.research.google.com/github/korede97/Hamoye_ML_Externship/blob/main/005_Weekly_ML_CodeClub.ipynb\" target=\"_parent\"><img src=\"https://colab.research.google.com/assets/colab-badge.svg\" alt=\"Open In Colab\"/></a>"
      ]
    },
    {
      "cell_type": "markdown",
      "metadata": {
        "id": "TsOz8YQKirbf"
      },
      "source": [
        "<font size = '15px' font color='navy'>The Complete Machine Learning Externship:</font> \n",
        "\n",
        "<font size = '6px' font color='red'>Weekly ML Code Club: 005</font> "
      ]
    },
    {
      "cell_type": "markdown",
      "metadata": {
        "id": "Y32Oh4HDZIns"
      },
      "source": [
        "<font size  = 5 font color = 'blue'>Machine Learning Neural Network <font/>\n"
      ]
    },
    {
      "cell_type": "markdown",
      "metadata": {
        "id": "eFMVVSA4TzyS"
      },
      "source": [
        "\n",
        "# Neural Network\n",
        "\n",
        "Familiarizing ourselves with building a simple neural network\n",
        "classifier on tensorflow using keras\n",
        "\n",
        "We would be working with the fashion_mnist dataset provided by tensorflow. The dataset comprises images of the following given as an array of numbers ranging from 0 to 255 which represent pixel values.\n",
        "* T-shirt/tops - 0\n",
        "* Trousers - 1\n",
        "* Pullover - 2\n",
        "* Dress - 3\n",
        "* Coat - 4\n",
        "* Sandal - 5\n",
        "* Shirt - 6\n",
        "* Sneaker - 7\n",
        "* Bag - 8\n",
        "* Ankle boot - 9\n",
        "\n",
        "The numbers in front of the image represent their labels(encoding), these labels are what we would be classifying. So to know what image belongs to what label we have to create a mapping of the labels to their respective images."
      ]
    },
    {
      "cell_type": "markdown",
      "metadata": {
        "id": "gq7pFzIuaTH1"
      },
      "source": [
        "# Load the Dataset"
      ]
    },
    {
      "cell_type": "code",
      "metadata": {
        "id": "P7vacGEsT8ul"
      },
      "source": [
        "# make sure tensorflow 2.0 is installed\n",
        "# pip install \"tensorflow>=2.0.0\""
      ],
      "execution_count": 393,
      "outputs": []
    },
    {
      "cell_type": "code",
      "metadata": {
        "id": "Uq2Gs_j1acXo"
      },
      "source": [
        "# Import all necessary libraries \n",
        "import tensorflow as tf\n",
        "from tensorflow import keras\n",
        "import matplotlib.pyplot as plt\n",
        "import numpy as np\n",
        "\n",
        "# print(tf.__version__)\n",
        "data = keras.datasets.fashion_mnist"
      ],
      "execution_count": 394,
      "outputs": []
    },
    {
      "cell_type": "markdown",
      "metadata": {
        "id": "gQnlodYvVSmM"
      },
      "source": [
        "Load the dataset from the tensorflow website and store the train and train images along with their labels (1 through 9) as a tuple"
      ]
    },
    {
      "cell_type": "code",
      "metadata": {
        "id": "tTNc6iHusULD"
      },
      "source": [
        "(train_images, train_labels), (test_images, test_labels) = data.load_data()"
      ],
      "execution_count": 395,
      "outputs": []
    },
    {
      "cell_type": "markdown",
      "metadata": {
        "id": "sLsA8DEFXUNN"
      },
      "source": [
        "### Task 1: Explore and understand the dataset"
      ]
    },
    {
      "cell_type": "code",
      "metadata": {
        "colab": {
          "base_uri": "https://localhost:8080/"
        },
        "id": "wb9n6jSBBJeA",
        "outputId": "ff73f2f1-43a2-432b-fe3a-cbfde0b33eb5"
      },
      "source": [
        "print(\"Training data: {}, {}\".format(train_images.shape, train_labels.shape))\n",
        "# prints Training data: (60000, 28, 28), (60000,)\n",
        "print(\"Test data: {}, {}\".format(test_images.shape, test_labels.shape))\n",
        "# prints Test data: (10000, 28, 28), (10000,)\n",
        "class_labels = np.unique(train_labels)\n",
        "print(\"There are {} classes in the dataset. They are: {}\".format(len(class_labels), class_labels))"
      ],
      "execution_count": 396,
      "outputs": [
        {
          "output_type": "stream",
          "text": [
            "Training data: (60000, 28, 28), (60000,)\n",
            "Test data: (10000, 28, 28), (10000,)\n",
            "There are 10 classes in the dataset. They are: [0 1 2 3 4 5 6 7 8 9]\n"
          ],
          "name": "stdout"
        }
      ]
    },
    {
      "cell_type": "code",
      "metadata": {
        "id": "e8DAb2lIam8M",
        "colab": {
          "base_uri": "https://localhost:8080/"
        },
        "outputId": "1e154d8d-e221-49b7-aacd-cb7f9549b5d0"
      },
      "source": [
        "# first train_label from the data \n",
        "print(train_labels[0])\n"
      ],
      "execution_count": 397,
      "outputs": [
        {
          "output_type": "stream",
          "text": [
            "9\n"
          ],
          "name": "stdout"
        }
      ]
    },
    {
      "cell_type": "markdown",
      "metadata": {
        "id": "sgkq4_blXoBE"
      },
      "source": [
        "It outputs an integer value ranging from 0 to 9 which represents an image as listed above"
      ]
    },
    {
      "cell_type": "code",
      "metadata": {
        "colab": {
          "base_uri": "https://localhost:8080/",
          "height": 282
        },
        "id": "YbosIW6xXvbX",
        "outputId": "7230b8fd-f967-4d21-9358-bf6c73d4c581"
      },
      "source": [
        "# visualize the image belonging to the output label \n",
        "plt.imshow(train_images[0])"
      ],
      "execution_count": 398,
      "outputs": [
        {
          "output_type": "execute_result",
          "data": {
            "text/plain": [
              "<matplotlib.image.AxesImage at 0x7f8d2d0b4350>"
            ]
          },
          "metadata": {
            "tags": []
          },
          "execution_count": 398
        },
        {
          "output_type": "display_data",
          "data": {
            "image/png": "[encoded data removed]",
            "text/plain": [
              "<Figure size 432x288 with 1 Axes>"
            ]
          },
          "metadata": {
            "tags": [],
            "needs_background": "light"
          }
        }
      ]
    },
    {
      "cell_type": "markdown",
      "metadata": {
        "id": "RXqyStaUYJBt"
      },
      "source": [
        "Outputs the image that is represented by label 0"
      ]
    },
    {
      "cell_type": "code",
      "metadata": {
        "colab": {
          "base_uri": "https://localhost:8080/"
        },
        "id": "08P6AIykYIqF",
        "outputId": "a95e5faa-9978-4823-b850-8ff3e11c0c3f"
      },
      "source": [
        "print(train_images[0])"
      ],
      "execution_count": 399,
      "outputs": [
        {
          "output_type": "stream",
          "text": [
            "[[  0   0   0   0   0   0   0   0   0   0   0   0   0   0   0   0   0   0\n",
            "    0   0   0   0   0   0   0   0   0   0]\n",
            " [  0   0   0   0   0   0   0   0   0   0   0   0   0   0   0   0   0   0\n",
            "    0   0   0   0   0   0   0   0   0   0]\n",
            " [  0   0   0   0   0   0   0   0   0   0   0   0   0   0   0   0   0   0\n",
            "    0   0   0   0   0   0   0   0   0   0]\n",
            " [  0   0   0   0   0   0   0   0   0   0   0   0   1   0   0  13  73   0\n",
            "    0   1   4   0   0   0   0   1   1   0]\n",
            " [  0   0   0   0   0   0   0   0   0   0   0   0   3   0  36 136 127  62\n",
            "   54   0   0   0   1   3   4   0   0   3]\n",
            " [  0   0   0   0   0   0   0   0   0   0   0   0   6   0 102 204 176 134\n",
            "  144 123  23   0   0   0   0  12  10   0]\n",
            " [  0   0   0   0   0   0   0   0   0   0   0   0   0   0 155 236 207 178\n",
            "  107 156 161 109  64  23  77 130  72  15]\n",
            " [  0   0   0   0   0   0   0   0   0   0   0   1   0  69 207 223 218 216\n",
            "  216 163 127 121 122 146 141  88 172  66]\n",
            " [  0   0   0   0   0   0   0   0   0   1   1   1   0 200 232 232 233 229\n",
            "  223 223 215 213 164 127 123 196 229   0]\n",
            " [  0   0   0   0   0   0   0   0   0   0   0   0   0 183 225 216 223 228\n",
            "  235 227 224 222 224 221 223 245 173   0]\n",
            " [  0   0   0   0   0   0   0   0   0   0   0   0   0 193 228 218 213 198\n",
            "  180 212 210 211 213 223 220 243 202   0]\n",
            " [  0   0   0   0   0   0   0   0   0   1   3   0  12 219 220 212 218 192\n",
            "  169 227 208 218 224 212 226 197 209  52]\n",
            " [  0   0   0   0   0   0   0   0   0   0   6   0  99 244 222 220 218 203\n",
            "  198 221 215 213 222 220 245 119 167  56]\n",
            " [  0   0   0   0   0   0   0   0   0   4   0   0  55 236 228 230 228 240\n",
            "  232 213 218 223 234 217 217 209  92   0]\n",
            " [  0   0   1   4   6   7   2   0   0   0   0   0 237 226 217 223 222 219\n",
            "  222 221 216 223 229 215 218 255  77   0]\n",
            " [  0   3   0   0   0   0   0   0   0  62 145 204 228 207 213 221 218 208\n",
            "  211 218 224 223 219 215 224 244 159   0]\n",
            " [  0   0   0   0  18  44  82 107 189 228 220 222 217 226 200 205 211 230\n",
            "  224 234 176 188 250 248 233 238 215   0]\n",
            " [  0  57 187 208 224 221 224 208 204 214 208 209 200 159 245 193 206 223\n",
            "  255 255 221 234 221 211 220 232 246   0]\n",
            " [  3 202 228 224 221 211 211 214 205 205 205 220 240  80 150 255 229 221\n",
            "  188 154 191 210 204 209 222 228 225   0]\n",
            " [ 98 233 198 210 222 229 229 234 249 220 194 215 217 241  65  73 106 117\n",
            "  168 219 221 215 217 223 223 224 229  29]\n",
            " [ 75 204 212 204 193 205 211 225 216 185 197 206 198 213 240 195 227 245\n",
            "  239 223 218 212 209 222 220 221 230  67]\n",
            " [ 48 203 183 194 213 197 185 190 194 192 202 214 219 221 220 236 225 216\n",
            "  199 206 186 181 177 172 181 205 206 115]\n",
            " [  0 122 219 193 179 171 183 196 204 210 213 207 211 210 200 196 194 191\n",
            "  195 191 198 192 176 156 167 177 210  92]\n",
            " [  0   0  74 189 212 191 175 172 175 181 185 188 189 188 193 198 204 209\n",
            "  210 210 211 188 188 194 192 216 170   0]\n",
            " [  2   0   0   0  66 200 222 237 239 242 246 243 244 221 220 193 191 179\n",
            "  182 182 181 176 166 168  99  58   0   0]\n",
            " [  0   0   0   0   0   0   0  40  61  44  72  41  35   0   0   0   0   0\n",
            "    0   0   0   0   0   0   0   0   0   0]\n",
            " [  0   0   0   0   0   0   0   0   0   0   0   0   0   0   0   0   0   0\n",
            "    0   0   0   0   0   0   0   0   0   0]\n",
            " [  0   0   0   0   0   0   0   0   0   0   0   0   0   0   0   0   0   0\n",
            "    0   0   0   0   0   0   0   0   0   0]]\n"
          ],
          "name": "stdout"
        }
      ]
    },
    {
      "cell_type": "markdown",
      "metadata": {
        "id": "1P4AWvG2YnZu"
      },
      "source": [
        "The train images are an array of 28 * 28 pixels"
      ]
    },
    {
      "cell_type": "code",
      "metadata": {
        "colab": {
          "base_uri": "https://localhost:8080/",
          "height": 256
        },
        "id": "Wy00stS0bvvQ",
        "outputId": "71caf64c-274d-4213-e5e6-e54fb679bf85"
      },
      "source": [
        "plt.figure(figsize=(20, 5))\n",
        "\n",
        "plt.subplot(1,5,1)\n",
        "plt.imshow(train_images[0])\n",
        "plt.title(\"Label: {}\".format(train_labels[0]))\n",
        "\n",
        "plt.subplot(1,5,2)\n",
        "plt.imshow(train_images[1])\n",
        "plt.title(\"Label: {}\".format(train_labels[1]))\n",
        "\n",
        "plt.subplot(1,5,3)\n",
        "plt.imshow(train_images[2])\n",
        "plt.title(\"Label: {}\".format(train_labels[2]))\n",
        "\n",
        "plt.subplot(1,5,4)\n",
        "plt.imshow(train_images[3])\n",
        "plt.title(\"Label: {}\".format(train_labels[3]))\n",
        "\n",
        "plt.subplot(1,5,5)\n",
        "plt.imshow(test_images[400])\n",
        "\n",
        "\n",
        "plt.show()"
      ],
      "execution_count": 400,
      "outputs": [
        {
          "output_type": "display_data",
          "data": {
            "image/png": "[encoded data removed]",
            "text/plain": [
              "<Figure size 1440x360 with 5 Axes>"
            ]
          },
          "metadata": {
            "tags": [],
            "needs_background": "light"
          }
        }
      ]
    },
    {
      "cell_type": "code",
      "metadata": {
        "id": "p-0fhwg5ZeDk"
      },
      "source": [
        "class_names  = ['T-shirt/tops','Trouser','Pullover', 'Dress', 'Coat', 'Sandal', 'Shirt',\n",
        "                'Sneaker', 'Bag', 'Ankle boot']"
      ],
      "execution_count": 401,
      "outputs": []
    },
    {
      "cell_type": "code",
      "metadata": {
        "colab": {
          "base_uri": "https://localhost:8080/"
        },
        "id": "hzy7xjCeG2hK",
        "outputId": "edd4bfb0-c61e-4f53-865f-15123b382b17"
      },
      "source": [
        "print(class_names[train_labels[0]])"
      ],
      "execution_count": 402,
      "outputs": [
        {
          "output_type": "stream",
          "text": [
            "Ankle boot\n"
          ],
          "name": "stdout"
        }
      ]
    },
    {
      "cell_type": "markdown",
      "metadata": {
        "id": "DPwagfN7YwAt"
      },
      "source": [
        "### Task 2: Prepare the dataset for modelling"
      ]
    },
    {
      "cell_type": "code",
      "metadata": {
        "id": "SJFG5Y9js-W3"
      },
      "source": [
        "# scale the train and test images to range between 0 and 1 by dividing the array by 255 (where pixel values range from 0 - 255 )\n",
        "train_images = (train_images/255.0)\n",
        "test_images = (test_images/255.0)"
      ],
      "execution_count": 403,
      "outputs": []
    },
    {
      "cell_type": "code",
      "metadata": {
        "id": "zoWp9dNbdSHz"
      },
      "source": [
        "# Reshape the 28*28 matrix to a single array\n",
        "# new_dimension = np.prod(train_images.shape[1:])\n",
        "# train_images = train_images.reshape(train_images.shape[0], new_dimension)\n",
        "# test_images = test_images.reshape(test_images.shape[0], new_dimension)\n",
        "\n",
        "# print(\"train_images: {}\".format(train_images.shape)) #prints  x_train: (50000, 784)\n",
        "# print(\"test_images: {}\".format(test_images.shape)) #prints test_images: (10000, 784)"
      ],
      "execution_count": 404,
      "outputs": []
    },
    {
      "cell_type": "markdown",
      "metadata": {
        "id": "43OOo7pkC-fK"
      },
      "source": [
        "#### Train the neural network "
      ]
    },
    {
      "cell_type": "code",
      "metadata": {
        "id": "wJwDk2jvkST0"
      },
      "source": [
        "# Set up the layers \n",
        "\n",
        "from tensorflow.keras.layers import Dense\n",
        "from tensorflow.keras.models import Sequential\n",
        "from tensorflow.keras.layers import Flatten\n",
        "\n",
        "\n",
        "model = Sequential()\n",
        "model.add(Flatten(input_shape = (28,28)))\n",
        "model.add(Dense(256, activation='relu', input_shape=(new_dimension,)))\n",
        "model.add(Dense(128, activation='relu'))\n",
        "model.add(Dense(no_labels, activation='softmax'))"
      ],
      "execution_count": 405,
      "outputs": []
    },
    {
      "cell_type": "code",
      "metadata": {
        "id": "Y1grn9qoJLnc"
      },
      "source": [
        "# compile the model\n",
        "model.compile(optimizer='adam', loss=tf.keras.losses.categorical_crossentropy, \n",
        "              metrics=['accuracy'])\n",
        "# model.compile(optimizer='adam',\n",
        "#               loss=tf.keras.losses.SparseCategoricalCrossentropy(from_logits=True),\n",
        "#               metrics=['accuracy'])"
      ],
      "execution_count": 406,
      "outputs": []
    },
    {
      "cell_type": "code",
      "metadata": {
        "id": "rkoWMFIrNBAa"
      },
      "source": [
        "# Encode labels to into categorical variables \n",
        "from tensorflow.keras.utils import to_categorical\n",
        "no_labels = 10\n",
        "train_labels = to_categorical(train_labels, no_labels)\n",
        "test_labels = to_categorical(test_labels, no_labels)"
      ],
      "execution_count": 407,
      "outputs": []
    },
    {
      "cell_type": "code",
      "metadata": {
        "colab": {
          "base_uri": "https://localhost:8080/"
        },
        "id": "OrGb6RGWJbfs",
        "outputId": "95f36882-ad53-4f24-c0aa-592c2ec229c4"
      },
      "source": [
        "# Train the neural network \n",
        "model.fit(train_images, train_labels, epochs=10)"
      ],
      "execution_count": 408,
      "outputs": [
        {
          "output_type": "stream",
          "text": [
            "Train on 60000 samples\n",
            "Epoch 1/10\n",
            "60000/60000 [==============================] - 6s 97us/sample - loss: 0.4799 - acc: 0.8264\n",
            "Epoch 2/10\n",
            "60000/60000 [==============================] - 6s 92us/sample - loss: 0.3560 - acc: 0.8693\n",
            "Epoch 3/10\n",
            "60000/60000 [==============================] - 6s 92us/sample - loss: 0.3212 - acc: 0.8816\n",
            "Epoch 4/10\n",
            "60000/60000 [==============================] - 6s 92us/sample - loss: 0.2985 - acc: 0.8877\n",
            "Epoch 5/10\n",
            "60000/60000 [==============================] - 6s 96us/sample - loss: 0.2819 - acc: 0.8937\n",
            "Epoch 6/10\n",
            "60000/60000 [==============================] - 6s 95us/sample - loss: 0.2669 - acc: 0.8988\n",
            "Epoch 7/10\n",
            "60000/60000 [==============================] - 6s 95us/sample - loss: 0.2543 - acc: 0.9036\n",
            "Epoch 8/10\n",
            "60000/60000 [==============================] - 6s 94us/sample - loss: 0.2435 - acc: 0.9075\n",
            "Epoch 9/10\n",
            "60000/60000 [==============================] - 6s 96us/sample - loss: 0.2333 - acc: 0.9116\n",
            "Epoch 10/10\n",
            "60000/60000 [==============================] - 6s 92us/sample - loss: 0.2244 - acc: 0.9151\n"
          ],
          "name": "stdout"
        },
        {
          "output_type": "execute_result",
          "data": {
            "text/plain": [
              "<tensorflow.python.keras.callbacks.History at 0x7f8d357f5910>"
            ]
          },
          "metadata": {
            "tags": []
          },
          "execution_count": 408
        }
      ]
    },
    {
      "cell_type": "markdown",
      "metadata": {
        "id": "KzKKGCt-NaMw"
      },
      "source": [
        "Model Evaluation"
      ]
    },
    {
      "cell_type": "code",
      "metadata": {
        "colab": {
          "base_uri": "https://localhost:8080/"
        },
        "id": "Ogh3vZlmNb22",
        "outputId": "318612f6-4d19-4ee1-af93-a00504df7655"
      },
      "source": [
        "test_loss, test_accuracy = model.evaluate(test_images, test_labels)\n",
        "print('Test loss: {}'.format(test_loss))\n",
        "print('Test accuracy: {}'.format(test_accuracy))"
      ],
      "execution_count": 409,
      "outputs": [
        {
          "output_type": "stream",
          "text": [
            "/usr/local/lib/python3.7/dist-packages/tensorflow/python/keras/engine/training.py:2325: UserWarning: `Model.state_updates` will be removed in a future version. This property should not be used in TensorFlow 2.0, as `updates` are applied automatically.\n",
            "  warnings.warn('`Model.state_updates` will be removed in a future version. '\n"
          ],
          "name": "stderr"
        },
        {
          "output_type": "stream",
          "text": [
            "Test loss: 0.3341808252453804\n",
            "Test accuracy: 0.888700008392334\n"
          ],
          "name": "stdout"
        }
      ]
    },
    {
      "cell_type": "markdown",
      "metadata": {
        "id": "3sTMUz0NPWS-"
      },
      "source": [
        "Note that the training data accuracy is a greater than that of testing data. This suggests there is some overfitting in our model"
      ]
    },
    {
      "cell_type": "markdown",
      "metadata": {
        "id": "EFDYTRHDAov4"
      },
      "source": [
        "## Visualize the predicted results and compare with actual images"
      ]
    },
    {
      "cell_type": "code",
      "metadata": {
        "colab": {
          "base_uri": "https://localhost:8080/"
        },
        "id": "YWdXza5-Wjt4",
        "outputId": "04f50047-c27c-4fb8-b80f-854105ec2ceb"
      },
      "source": [
        "predictions = model.predict([test_images]) \n",
        "print(np.argmax(predictions[3723]))\n",
        "print(class_names[np.argmax(predictions[3723])])\n",
        "print(predictions.shape)"
      ],
      "execution_count": 410,
      "outputs": [
        {
          "output_type": "stream",
          "text": [
            "/usr/local/lib/python3.7/dist-packages/tensorflow/python/keras/engine/training.py:2325: UserWarning: `Model.state_updates` will be removed in a future version. This property should not be used in TensorFlow 2.0, as `updates` are applied automatically.\n",
            "  warnings.warn('`Model.state_updates` will be removed in a future version. '\n"
          ],
          "name": "stderr"
        },
        {
          "output_type": "stream",
          "text": [
            "9\n",
            "Ankle boot\n",
            "(10000, 10)\n"
          ],
          "name": "stdout"
        }
      ]
    },
    {
      "cell_type": "code",
      "metadata": {
        "colab": {
          "base_uri": "https://localhost:8080/"
        },
        "id": "_vltw7K3XFTF",
        "outputId": "1cafd237-da57-4697-c5ff-6f733e514059"
      },
      "source": [
        "import random\n",
        "#Generate 10 random numbers between 0 and 60000\n",
        "randomlist = random.sample(range(0, len(test_images)), 10)\n",
        "print(randomlist)"
      ],
      "execution_count": 411,
      "outputs": [
        {
          "output_type": "stream",
          "text": [
            "[4788, 4801, 8321, 7558, 614, 9062, 1812, 8276, 1972, 8874]\n"
          ],
          "name": "stdout"
        }
      ]
    },
    {
      "cell_type": "code",
      "metadata": {
        "colab": {
          "base_uri": "https://localhost:8080/",
          "height": 308
        },
        "id": "sIGfpaejlY04",
        "outputId": "e742d9e7-96a6-42fb-8347-7d1e1c3046db"
      },
      "source": [
        "n_row = 2\n",
        "n_col = 5\n",
        "c = 1\n",
        "# num_images = 10\n",
        "\n",
        "plt.figure(figsize=(10, 5))\n",
        "\n",
        "for i in randomlist:\n",
        "  pred_label = np.argmax(predictions[i])\n",
        "  title = class_names[pred_label] + \" - \" + str(pred_label)\n",
        "  plt.subplot(n_row,n_col,c)\n",
        "  plt.imshow(test_images[i].reshape(28,28)) \n",
        "  plt.title(title)\n",
        "  c=c+1\n",
        "plt.show() "
      ],
      "execution_count": 413,
      "outputs": [
        {
          "output_type": "display_data",
          "data": {
            "image/png": "[encoded data removed]",
            "text/plain": [
              "<Figure size 720x360 with 10 Axes>"
            ]
          },
          "metadata": {
            "tags": [],
            "needs_background": "light"
          }
        }
      ]
    },
    {
      "cell_type": "markdown",
      "metadata": {
        "id": "zxFuXWp1CawG"
      },
      "source": [
        "The model correctly identifies most images. Further, we can look into the probabilities of these predictions."
      ]
    },
    {
      "cell_type": "code",
      "metadata": {
        "id": "rRGVbN22dTGK"
      },
      "source": [
        ""
      ],
      "execution_count": null,
      "outputs": []
    }
  ]
}